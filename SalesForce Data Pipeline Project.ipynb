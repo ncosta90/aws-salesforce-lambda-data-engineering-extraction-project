{
 "cells": [
  {
   "cell_type": "markdown",
   "id": "200ce063-9232-4be2-bfab-95dc5ad5b47b",
   "metadata": {},
   "source": [
    "# SalesForce - REST API - Data Extract - Accounts Table"
   ]
  },
  {
   "cell_type": "markdown",
   "id": "720af9a0-1c83-43cd-a0a7-d98f4a59407d",
   "metadata": {},
   "source": [
    "---"
   ]
  },
  {
   "cell_type": "code",
   "execution_count": 1,
   "id": "111e5bac-7e4e-4306-ab6f-86c1daf15513",
   "metadata": {},
   "outputs": [],
   "source": [
    "import json\n",
    "import requests\n",
    "import pandas as pd\n",
    "import numpy as np\n",
    "import seaborn as sns\n",
    "from faker import Faker\n",
    "from datetime import datetime"
   ]
  },
  {
   "cell_type": "markdown",
   "id": "fb07ef7c-1242-4420-983a-a35b29f796ac",
   "metadata": {},
   "source": [
    "---"
   ]
  },
  {
   "cell_type": "markdown",
   "id": "70d6bf45-e369-46b2-963f-289a104a923d",
   "metadata": {},
   "source": [
    "### # SFDC Credentials"
   ]
  },
  {
   "cell_type": "code",
   "execution_count": 2,
   "id": "187c5dfd-11b1-4f1d-a319-69d7c1b6fba1",
   "metadata": {},
   "outputs": [],
   "source": [
    "security_token = os.environ.get('security_token')\n",
    "sfdc_password = os.environ.get('sfdc_password')\n",
    "username = os.environ.get('username')\n",
    "client_id = os.environ.get('client_id')\n",
    "client_secret = os.environ.get('client_secret')"
   ]
  },
  {
   "cell_type": "markdown",
   "id": "c2963b19-2cf7-43c3-bfac-d8cf59215e5f",
   "metadata": {},
   "source": [
    "---"
   ]
  },
  {
   "cell_type": "markdown",
   "id": "5b6ac897-9b67-4a14-8d10-e11aed04dccd",
   "metadata": {},
   "source": [
    "### # Salesforce Authentication"
   ]
  },
  {
   "cell_type": "code",
   "execution_count": 3,
   "id": "0da04992-0e4a-4bc6-adc4-eb0f6ce4b7c6",
   "metadata": {},
   "outputs": [],
   "source": [
    "# Salesforce Authentication\n",
    "auth_url = 'https://login.salesforce.com/services/oauth2/token'\n",
    "auth_payload = {\n",
    "    'grant_type': 'password',\n",
    "    'client_id': client_id,\n",
    "    'client_secret': client_secret,\n",
    "    'username': username,\n",
    "    'password': sfdc_password + security_token\n",
    "}\n",
    "\n",
    "auth_response = requests.post(auth_url, data=auth_payload)\n",
    "auth_data = auth_response.json()\n",
    "access_token = auth_data['access_token']\n",
    "instance_url = auth_data['instance_url']"
   ]
  },
  {
   "cell_type": "markdown",
   "id": "dbc517ee-88d5-4a91-ba59-4bd6808cee1d",
   "metadata": {},
   "source": [
    "### # Headers for API requests"
   ]
  },
  {
   "cell_type": "code",
   "execution_count": 4,
   "id": "76222fea-52f7-4f51-89c1-55c490496680",
   "metadata": {},
   "outputs": [],
   "source": [
    "headers = {\n",
    "    'Authorization': f'Bearer {access_token}',\n",
    "    'Content-Type': 'application/json'\n",
    "}\n"
   ]
  },
  {
   "cell_type": "markdown",
   "id": "f59c764d-9a7d-47fa-8c19-85536a4d0a90",
   "metadata": {},
   "source": [
    "### # Account table description"
   ]
  },
  {
   "cell_type": "code",
   "execution_count": 5,
   "id": "1140eedc-053f-4a7f-8305-45a9b9f95a4e",
   "metadata": {},
   "outputs": [],
   "source": [
    "describe_url = f'{instance_url}/services/data/v52.0/sobjects/Account/describe'\n",
    "describe_response = requests.get(describe_url, headers=headers)\n",
    "sfdc_account_table = describe_response.json()"
   ]
  },
  {
   "cell_type": "markdown",
   "id": "35f394b8-6f1f-4c17-87f5-1f354269138b",
   "metadata": {},
   "source": [
    "### # SOQL"
   ]
  },
  {
   "cell_type": "code",
   "execution_count": 6,
   "id": "1df25665-fc17-490e-9033-a09e412ffa3c",
   "metadata": {},
   "outputs": [],
   "source": [
    "sfdc_accounts_col_list = ['Id', 'Name', 'CreatedDate', 'Owner_Region__c', 'NumberOfEmployees']\n",
    "sfdc_accounts_col_string = ', '.join(sfdc_accounts_col_list)\n",
    "sfdc_accounts_col_query = f\"SELECT {sfdc_accounts_col_string} FROM Account WHERE (NumberOfEmployees != NULL AND Owner_Region__c != NULL)\"\n",
    "\n",
    "query_url = f'{instance_url}/services/data/v52.0/query?q={sfdc_accounts_col_query}'\n",
    "query_response = requests.get(query_url, headers=headers)\n",
    "sfdc_accounts_data = query_response.json()"
   ]
  },
  {
   "cell_type": "code",
   "execution_count": 7,
   "id": "60a0fef6-ed40-41da-a6da-a40c3d10bff7",
   "metadata": {},
   "outputs": [
    {
     "data": {
      "text/plain": [
       "dict"
      ]
     },
     "execution_count": 7,
     "metadata": {},
     "output_type": "execute_result"
    }
   ],
   "source": [
    "type(sfdc_accounts_data)"
   ]
  },
  {
   "cell_type": "code",
   "execution_count": 8,
   "id": "8c821a64-bc2c-4542-ae99-67434ba309ed",
   "metadata": {
    "scrolled": true
   },
   "outputs": [
    {
     "data": {
      "text/plain": [
       "{'totalSize': 3125,\n",
       " 'done': False,\n",
       " 'nextRecordsUrl': '/services/data/v52.0/query/0r8xx3COBVLNo1nA4D-2000',\n",
       " 'records': [{'attributes': {'type': 'Account',\n",
       "    'url': '/services/data/v52.0/sobjects/Account/0015f00000Amef3AAB'},\n",
       "   'Id': '0015f00000Amef3AAB',\n",
       "   'Name': 'Glenn Carpenter',\n",
       "   'CreatedDate': '2021-10-27T18:24:21.000+0000',\n",
       "   'Owner_Region__c': 'AMER',\n",
       "   'NumberOfEmployees': 10000},\n",
       "  {'attributes': {'type': 'Account',\n",
       "    'url': '/services/data/v52.0/sobjects/Account/0015f00000Amef5AAB'},\n",
       "   'Id': '0015f00000Amef5AAB',\n",
       "   'Name': 'Amy Coleman',\n",
       "   'CreatedDate': '2021-10-27T18:24:21.000+0000',\n",
       "   'Owner_Region__c': 'AMER',\n",
       "   'NumberOfEmployees': 10000}]}"
      ]
     },
     "execution_count": 8,
     "metadata": {},
     "output_type": "execute_result"
    }
   ],
   "source": [
    "sfdc_accounts_data"
   ]
  },
  {
   "cell_type": "markdown",
   "id": "c2b24926-9487-42da-b98a-51e873e3f8ce",
   "metadata": {},
   "source": [
    "---"
   ]
  },
  {
   "cell_type": "markdown",
   "id": "24de58f6-5d66-4b67-909d-6ca15aeb44b5",
   "metadata": {},
   "source": [
    "# SalesForce - Data Transform"
   ]
  },
  {
   "cell_type": "code",
   "execution_count": 9,
   "id": "07ef7aec-a454-4d01-b609-aed0ebb37803",
   "metadata": {},
   "outputs": [
    {
     "data": {
      "text/plain": [
       "dict"
      ]
     },
     "execution_count": 9,
     "metadata": {},
     "output_type": "execute_result"
    }
   ],
   "source": [
    "type(sfdc_accounts_data)"
   ]
  },
  {
   "cell_type": "code",
   "execution_count": 10,
   "id": "967a896e-09c6-489c-9365-4a2c6409b9f0",
   "metadata": {},
   "outputs": [
    {
     "data": {
      "text/plain": [
       "dict_keys(['totalSize', 'done', 'nextRecordsUrl', 'records'])"
      ]
     },
     "execution_count": 10,
     "metadata": {},
     "output_type": "execute_result"
    }
   ],
   "source": [
    "sfdc_accounts_data.keys()"
   ]
  },
  {
   "cell_type": "code",
   "execution_count": 11,
   "id": "a62311a3-5da9-4181-8bc2-dde705697630",
   "metadata": {},
   "outputs": [
    {
     "data": {
      "text/plain": [
       "3125"
      ]
     },
     "execution_count": 11,
     "metadata": {},
     "output_type": "execute_result"
    }
   ],
   "source": [
    "sfdc_accounts_data['totalSize'] # Number of records = number of accounts in our SFDC account"
   ]
  },
  {
   "cell_type": "code",
   "execution_count": 12,
   "id": "5f4dd4f6-3a27-403a-99ad-728353f8e54f",
   "metadata": {},
   "outputs": [
    {
     "data": {
      "text/plain": [
       "'0015f00000Amef3AAB'"
      ]
     },
     "execution_count": 12,
     "metadata": {},
     "output_type": "execute_result"
    }
   ],
   "source": [
    "sfdc_accounts_data['records'][0]['Id']"
   ]
  },
  {
   "cell_type": "code",
   "execution_count": 13,
   "id": "08390a11-8637-4e98-94e0-12606b14af55",
   "metadata": {},
   "outputs": [
    {
     "data": {
      "text/plain": [
       "'2021-10-27T18:24:21.000+0000'"
      ]
     },
     "execution_count": 13,
     "metadata": {},
     "output_type": "execute_result"
    }
   ],
   "source": [
    "sfdc_accounts_data['records'][0]['CreatedDate']"
   ]
  },
  {
   "cell_type": "code",
   "execution_count": 14,
   "id": "827c2bd1-4aa0-4793-841f-712eed207677",
   "metadata": {},
   "outputs": [
    {
     "data": {
      "text/plain": [
       "'AMER'"
      ]
     },
     "execution_count": 14,
     "metadata": {},
     "output_type": "execute_result"
    }
   ],
   "source": [
    "sfdc_accounts_data['records'][0]['Owner_Region__c']"
   ]
  },
  {
   "cell_type": "code",
   "execution_count": 15,
   "id": "6281e575-628b-4aa6-af6d-f36292500b38",
   "metadata": {},
   "outputs": [
    {
     "data": {
      "text/plain": [
       "10000"
      ]
     },
     "execution_count": 15,
     "metadata": {},
     "output_type": "execute_result"
    }
   ],
   "source": [
    "sfdc_accounts_data['records'][0]['NumberOfEmployees']"
   ]
  },
  {
   "cell_type": "markdown",
   "id": "b40089e8-1775-4f76-92fb-a385f8364235",
   "metadata": {},
   "source": [
    "## Extracting only Columns Needed"
   ]
  },
  {
   "cell_type": "code",
   "execution_count": 16,
   "id": "9becfb4a-96fe-41c2-8c9b-306226259b56",
   "metadata": {},
   "outputs": [],
   "source": [
    "account_list = []\n",
    "\n",
    "for row in sfdc_accounts_data['records']:\n",
    "    \n",
    "    account_Id = row['Id']\n",
    "    account_Name = row['Name']\n",
    "    account_CreatedDate = row['CreatedDate']\n",
    "    account_Owner_Region__c = row['Owner_Region__c']\n",
    "    account_NumberOfEmployees = row['NumberOfEmployees']\n",
    "    extracting_date = pd.Timestamp.now()\n",
    "    \n",
    "    account_element = {\n",
    "            'account_id': account_Id,\n",
    "            'name': account_Name,\n",
    "            'creation_date': account_CreatedDate,\n",
    "            'owner_region': account_Owner_Region__c,\n",
    "            'total_employees': account_NumberOfEmployees,\n",
    "            'extracting_date': extracting_date\n",
    "        }\n",
    "    \n",
    "    account_list.append(account_element)"
   ]
  },
  {
   "cell_type": "markdown",
   "id": "d29d9750-cfd8-4186-a0da-0951fc999cdc",
   "metadata": {},
   "source": [
    "## Converting it into a Pandas DataFrame"
   ]
  },
  {
   "cell_type": "code",
   "execution_count": 17,
   "id": "71a14ba8-7cdc-4627-839b-0d1e7ff216d8",
   "metadata": {},
   "outputs": [],
   "source": [
    "account_df = pd.DataFrame(account_list)"
   ]
  },
  {
   "cell_type": "code",
   "execution_count": 18,
   "id": "8beb1177-7a3d-41f3-b110-b2037b18d2d7",
   "metadata": {},
   "outputs": [],
   "source": [
    "# For privacy I will use fake names\n",
    "\n",
    "fake = Faker()\n",
    "num_names = len(account_df)\n",
    "fake_names = [fake.name() for _ in range(num_names)]\n",
    "fake_names_serie = pd.Series(fake_names)\n",
    "fake_names_serie\n",
    "\n",
    "account_df['name'] = account_df.index.map(fake_names_serie)"
   ]
  },
  {
   "cell_type": "code",
   "execution_count": 19,
   "id": "97f351a2-521a-4928-9978-a63dadc670ba",
   "metadata": {},
   "outputs": [
    {
     "data": {
      "text/html": [
       "<div>\n",
       "<style scoped>\n",
       "    .dataframe tbody tr th:only-of-type {\n",
       "        vertical-align: middle;\n",
       "    }\n",
       "\n",
       "    .dataframe tbody tr th {\n",
       "        vertical-align: top;\n",
       "    }\n",
       "\n",
       "    .dataframe thead th {\n",
       "        text-align: right;\n",
       "    }\n",
       "</style>\n",
       "<table border=\"1\" class=\"dataframe\">\n",
       "  <thead>\n",
       "    <tr style=\"text-align: right;\">\n",
       "      <th></th>\n",
       "      <th>account_id</th>\n",
       "      <th>name</th>\n",
       "      <th>creation_date</th>\n",
       "      <th>owner_region</th>\n",
       "      <th>total_employees</th>\n",
       "      <th>extracting_date</th>\n",
       "    </tr>\n",
       "  </thead>\n",
       "  <tbody>\n",
       "    <tr>\n",
       "      <th>0</th>\n",
       "      <td>0015f00000Amef3AAB</td>\n",
       "      <td>Glenn Carpenter</td>\n",
       "      <td>2021-10-27T18:24:21.000+0000</td>\n",
       "      <td>AMER</td>\n",
       "      <td>10000</td>\n",
       "      <td>2024-07-22 17:01:33.674874</td>\n",
       "    </tr>\n",
       "    <tr>\n",
       "      <th>1</th>\n",
       "      <td>0015f00000Amef5AAB</td>\n",
       "      <td>Amy Coleman</td>\n",
       "      <td>2021-10-27T18:24:21.000+0000</td>\n",
       "      <td>AMER</td>\n",
       "      <td>10000</td>\n",
       "      <td>2024-07-22 17:01:33.675781</td>\n",
       "    </tr>\n",
       "    <tr>\n",
       "      <th>2</th>\n",
       "      <td>0015f00000Amef6AAB</td>\n",
       "      <td>David Sanders</td>\n",
       "      <td>2021-10-27T18:24:21.000+0000</td>\n",
       "      <td>APAC</td>\n",
       "      <td>10000</td>\n",
       "      <td>2024-07-22 17:01:33.675785</td>\n",
       "    </tr>\n",
       "    <tr>\n",
       "      <th>3</th>\n",
       "      <td>0015f00000AmfLYAAZ</td>\n",
       "      <td>Teresa Smith</td>\n",
       "      <td>2021-10-27T18:24:21.000+0000</td>\n",
       "      <td>AMER</td>\n",
       "      <td>298965</td>\n",
       "      <td>2024-07-22 17:01:33.675787</td>\n",
       "    </tr>\n",
       "    <tr>\n",
       "      <th>4</th>\n",
       "      <td>0015f00000AmfLbAAJ</td>\n",
       "      <td>Dr. Elizabeth Miller MD</td>\n",
       "      <td>2021-10-27T18:24:21.000+0000</td>\n",
       "      <td>APAC</td>\n",
       "      <td>301200</td>\n",
       "      <td>2024-07-22 17:01:33.675789</td>\n",
       "    </tr>\n",
       "  </tbody>\n",
       "</table>\n",
       "</div>"
      ],
      "text/plain": [
       "           account_id                     name                 creation_date  \\\n",
       "0  0015f00000Amef3AAB          Glenn Carpenter  2021-10-27T18:24:21.000+0000   \n",
       "1  0015f00000Amef5AAB              Amy Coleman  2021-10-27T18:24:21.000+0000   \n",
       "2  0015f00000Amef6AAB            David Sanders  2021-10-27T18:24:21.000+0000   \n",
       "3  0015f00000AmfLYAAZ             Teresa Smith  2021-10-27T18:24:21.000+0000   \n",
       "4  0015f00000AmfLbAAJ  Dr. Elizabeth Miller MD  2021-10-27T18:24:21.000+0000   \n",
       "\n",
       "  owner_region  total_employees            extracting_date  \n",
       "0         AMER            10000 2024-07-22 17:01:33.674874  \n",
       "1         AMER            10000 2024-07-22 17:01:33.675781  \n",
       "2         APAC            10000 2024-07-22 17:01:33.675785  \n",
       "3         AMER           298965 2024-07-22 17:01:33.675787  \n",
       "4         APAC           301200 2024-07-22 17:01:33.675789  "
      ]
     },
     "execution_count": 19,
     "metadata": {},
     "output_type": "execute_result"
    }
   ],
   "source": [
    "account_df.head()"
   ]
  },
  {
   "cell_type": "code",
   "execution_count": 20,
   "id": "b73e34a7-0d10-4080-a577-a9cc43e584d2",
   "metadata": {},
   "outputs": [
    {
     "name": "stdout",
     "output_type": "stream",
     "text": [
      "<class 'pandas.core.frame.DataFrame'>\n",
      "RangeIndex: 2000 entries, 0 to 1999\n",
      "Data columns (total 6 columns):\n",
      " #   Column           Non-Null Count  Dtype         \n",
      "---  ------           --------------  -----         \n",
      " 0   account_id       2000 non-null   object        \n",
      " 1   name             2000 non-null   object        \n",
      " 2   creation_date    2000 non-null   object        \n",
      " 3   owner_region     2000 non-null   object        \n",
      " 4   total_employees  2000 non-null   int64         \n",
      " 5   extracting_date  2000 non-null   datetime64[ns]\n",
      "dtypes: datetime64[ns](1), int64(1), object(4)\n",
      "memory usage: 93.9+ KB\n"
     ]
    }
   ],
   "source": [
    "account_df.info()"
   ]
  },
  {
   "cell_type": "markdown",
   "id": "330b69da-7a95-45b3-b397-50800efbf78c",
   "metadata": {},
   "source": [
    "## Duplication detected"
   ]
  },
  {
   "cell_type": "code",
   "execution_count": 21,
   "id": "d4bb0412-eccb-41da-979f-274ca1b73e73",
   "metadata": {},
   "outputs": [
    {
     "data": {
      "text/html": [
       "<div>\n",
       "<style scoped>\n",
       "    .dataframe tbody tr th:only-of-type {\n",
       "        vertical-align: middle;\n",
       "    }\n",
       "\n",
       "    .dataframe tbody tr th {\n",
       "        vertical-align: top;\n",
       "    }\n",
       "\n",
       "    .dataframe thead th {\n",
       "        text-align: right;\n",
       "    }\n",
       "</style>\n",
       "<table border=\"1\" class=\"dataframe\">\n",
       "  <thead>\n",
       "    <tr style=\"text-align: right;\">\n",
       "      <th></th>\n",
       "      <th>account_id</th>\n",
       "      <th>name</th>\n",
       "      <th>creation_date</th>\n",
       "      <th>owner_region</th>\n",
       "    </tr>\n",
       "  </thead>\n",
       "  <tbody>\n",
       "    <tr>\n",
       "      <th>count</th>\n",
       "      <td>2000</td>\n",
       "      <td>2000</td>\n",
       "      <td>2000</td>\n",
       "      <td>2000</td>\n",
       "    </tr>\n",
       "    <tr>\n",
       "      <th>unique</th>\n",
       "      <td>2000</td>\n",
       "      <td>1980</td>\n",
       "      <td>1154</td>\n",
       "      <td>3</td>\n",
       "    </tr>\n",
       "    <tr>\n",
       "      <th>top</th>\n",
       "      <td>0015f00000Amef3AAB</td>\n",
       "      <td>David Sanders</td>\n",
       "      <td>2022-05-27T17:33:55.000+0000</td>\n",
       "      <td>AMER</td>\n",
       "    </tr>\n",
       "    <tr>\n",
       "      <th>freq</th>\n",
       "      <td>1</td>\n",
       "      <td>3</td>\n",
       "      <td>190</td>\n",
       "      <td>814</td>\n",
       "    </tr>\n",
       "  </tbody>\n",
       "</table>\n",
       "</div>"
      ],
      "text/plain": [
       "                account_id           name                 creation_date  \\\n",
       "count                 2000           2000                          2000   \n",
       "unique                2000           1980                          1154   \n",
       "top     0015f00000Amef3AAB  David Sanders  2022-05-27T17:33:55.000+0000   \n",
       "freq                     1              3                           190   \n",
       "\n",
       "       owner_region  \n",
       "count          2000  \n",
       "unique            3  \n",
       "top            AMER  \n",
       "freq            814  "
      ]
     },
     "execution_count": 21,
     "metadata": {},
     "output_type": "execute_result"
    }
   ],
   "source": [
    "account_df.select_dtypes(include='object').describe()"
   ]
  },
  {
   "cell_type": "markdown",
   "id": "8b16679f-833d-49ce-96fa-33d550d921d7",
   "metadata": {},
   "source": [
    "## Counts of accounts by region"
   ]
  },
  {
   "cell_type": "code",
   "execution_count": 22,
   "id": "99432f7c-02aa-49b2-865f-926cd6593d79",
   "metadata": {},
   "outputs": [
    {
     "data": {
      "text/plain": [
       "owner_region\n",
       "AMER    814\n",
       "EMEA    652\n",
       "APAC    534\n",
       "Name: count, dtype: int64"
      ]
     },
     "execution_count": 22,
     "metadata": {},
     "output_type": "execute_result"
    }
   ],
   "source": [
    "account_df['owner_region'].value_counts()"
   ]
  },
  {
   "cell_type": "code",
   "execution_count": 23,
   "id": "702ac1e3-ecf0-41dd-89da-88cabd3d0a64",
   "metadata": {},
   "outputs": [
    {
     "data": {
      "image/png": "[encoded data removed]",
      "text/plain": [
       "<Figure size 640x480 with 1 Axes>"
      ]
     },
     "metadata": {},
     "output_type": "display_data"
    }
   ],
   "source": [
    "account_df['owner_region'].value_counts().plot(kind='pie',colors=sns.color_palette(\"pastel\"));"
   ]
  },
  {
   "cell_type": "markdown",
   "id": "3d9db477-91de-41f2-b4a5-cdf61cd50fbf",
   "metadata": {},
   "source": [
    "## Converting string date column to date_time format"
   ]
  },
  {
   "cell_type": "code",
   "execution_count": 24,
   "id": "6eb18fd9-28f2-46b4-9e23-d50679e176b4",
   "metadata": {},
   "outputs": [],
   "source": [
    "account_df['creation_date'] = pd.to_datetime(account_df['creation_date']).dt.strftime('%Y-%m-%d')"
   ]
  },
  {
   "cell_type": "code",
   "execution_count": 25,
   "id": "2a6c8ac6-ab37-4a65-9524-93d349b5106f",
   "metadata": {},
   "outputs": [],
   "source": [
    "account_df['creation_date'] = pd.to_datetime(account_df['creation_date'])"
   ]
  },
  {
   "cell_type": "code",
   "execution_count": 26,
   "id": "498d2f45-0718-47bd-8497-fdb6ff94177c",
   "metadata": {},
   "outputs": [],
   "source": [
    "account_df['extracting_date'] = account_df['extracting_date'].dt.strftime('%Y-%m-%d %H:%M:%S')"
   ]
  },
  {
   "cell_type": "code",
   "execution_count": 27,
   "id": "bd69578a-338b-4a90-bb32-5b390fa2f829",
   "metadata": {},
   "outputs": [],
   "source": [
    "account_df['extracting_date'] = pd.to_datetime(account_df['extracting_date'])"
   ]
  },
  {
   "cell_type": "code",
   "execution_count": 28,
   "id": "d3cd7184-7c97-4123-894e-4023b6b73db2",
   "metadata": {},
   "outputs": [
    {
     "data": {
      "text/plain": [
       "account_id                 object\n",
       "name                       object\n",
       "creation_date      datetime64[ns]\n",
       "owner_region               object\n",
       "total_employees             int64\n",
       "extracting_date    datetime64[ns]\n",
       "dtype: object"
      ]
     },
     "execution_count": 28,
     "metadata": {},
     "output_type": "execute_result"
    }
   ],
   "source": [
    "account_df.dtypes"
   ]
  },
  {
   "cell_type": "markdown",
   "id": "da8aa3cf-8648-4594-a975-1d9035b13b21",
   "metadata": {},
   "source": [
    "# Ready to be Loaded"
   ]
  },
  {
   "cell_type": "code",
   "execution_count": 29,
   "id": "0925f737-7f39-4b69-bd3a-d8b8fc28ab68",
   "metadata": {},
   "outputs": [
    {
     "data": {
      "text/html": [
       "<div>\n",
       "<style scoped>\n",
       "    .dataframe tbody tr th:only-of-type {\n",
       "        vertical-align: middle;\n",
       "    }\n",
       "\n",
       "    .dataframe tbody tr th {\n",
       "        vertical-align: top;\n",
       "    }\n",
       "\n",
       "    .dataframe thead th {\n",
       "        text-align: right;\n",
       "    }\n",
       "</style>\n",
       "<table border=\"1\" class=\"dataframe\">\n",
       "  <thead>\n",
       "    <tr style=\"text-align: right;\">\n",
       "      <th></th>\n",
       "      <th>account_id</th>\n",
       "      <th>name</th>\n",
       "      <th>creation_date</th>\n",
       "      <th>owner_region</th>\n",
       "      <th>total_employees</th>\n",
       "      <th>extracting_date</th>\n",
       "    </tr>\n",
       "  </thead>\n",
       "  <tbody>\n",
       "    <tr>\n",
       "      <th>0</th>\n",
       "      <td>0015f00000Amef3AAB</td>\n",
       "      <td>Glenn Carpenter</td>\n",
       "      <td>2021-10-27</td>\n",
       "      <td>AMER</td>\n",
       "      <td>10000</td>\n",
       "      <td>2024-07-22 17:01:33</td>\n",
       "    </tr>\n",
       "    <tr>\n",
       "      <th>1</th>\n",
       "      <td>0015f00000Amef5AAB</td>\n",
       "      <td>Amy Coleman</td>\n",
       "      <td>2021-10-27</td>\n",
       "      <td>AMER</td>\n",
       "      <td>10000</td>\n",
       "      <td>2024-07-22 17:01:33</td>\n",
       "    </tr>\n",
       "    <tr>\n",
       "      <th>2</th>\n",
       "      <td>0015f00000Amef6AAB</td>\n",
       "      <td>David Sanders</td>\n",
       "      <td>2021-10-27</td>\n",
       "      <td>APAC</td>\n",
       "      <td>10000</td>\n",
       "      <td>2024-07-22 17:01:33</td>\n",
       "    </tr>\n",
       "    <tr>\n",
       "      <th>3</th>\n",
       "      <td>0015f00000AmfLYAAZ</td>\n",
       "      <td>Teresa Smith</td>\n",
       "      <td>2021-10-27</td>\n",
       "      <td>AMER</td>\n",
       "      <td>298965</td>\n",
       "      <td>2024-07-22 17:01:33</td>\n",
       "    </tr>\n",
       "    <tr>\n",
       "      <th>4</th>\n",
       "      <td>0015f00000AmfLbAAJ</td>\n",
       "      <td>Dr. Elizabeth Miller MD</td>\n",
       "      <td>2021-10-27</td>\n",
       "      <td>APAC</td>\n",
       "      <td>301200</td>\n",
       "      <td>2024-07-22 17:01:33</td>\n",
       "    </tr>\n",
       "    <tr>\n",
       "      <th>...</th>\n",
       "      <td>...</td>\n",
       "      <td>...</td>\n",
       "      <td>...</td>\n",
       "      <td>...</td>\n",
       "      <td>...</td>\n",
       "      <td>...</td>\n",
       "    </tr>\n",
       "    <tr>\n",
       "      <th>1995</th>\n",
       "      <td>001AJ000002hca0YAA</td>\n",
       "      <td>William Charles</td>\n",
       "      <td>2022-08-16</td>\n",
       "      <td>APAC</td>\n",
       "      <td>10000</td>\n",
       "      <td>2024-07-22 17:01:33</td>\n",
       "    </tr>\n",
       "    <tr>\n",
       "      <th>1996</th>\n",
       "      <td>001AJ000002heARYAY</td>\n",
       "      <td>Richard Newton</td>\n",
       "      <td>2022-08-16</td>\n",
       "      <td>EMEA</td>\n",
       "      <td>50</td>\n",
       "      <td>2024-07-22 17:01:33</td>\n",
       "    </tr>\n",
       "    <tr>\n",
       "      <th>1997</th>\n",
       "      <td>001AJ000002hgIFYAY</td>\n",
       "      <td>Wesley Richards</td>\n",
       "      <td>2022-08-16</td>\n",
       "      <td>EMEA</td>\n",
       "      <td>10000</td>\n",
       "      <td>2024-07-22 17:01:33</td>\n",
       "    </tr>\n",
       "    <tr>\n",
       "      <th>1998</th>\n",
       "      <td>001AJ000002i2uiYAA</td>\n",
       "      <td>Kelly Thomas</td>\n",
       "      <td>2022-08-17</td>\n",
       "      <td>EMEA</td>\n",
       "      <td>500</td>\n",
       "      <td>2024-07-22 17:01:33</td>\n",
       "    </tr>\n",
       "    <tr>\n",
       "      <th>1999</th>\n",
       "      <td>001AJ000002i70zYAA</td>\n",
       "      <td>Ryan Walls</td>\n",
       "      <td>2022-08-17</td>\n",
       "      <td>EMEA</td>\n",
       "      <td>10</td>\n",
       "      <td>2024-07-22 17:01:33</td>\n",
       "    </tr>\n",
       "  </tbody>\n",
       "</table>\n",
       "<p>2000 rows × 6 columns</p>\n",
       "</div>"
      ],
      "text/plain": [
       "              account_id                     name creation_date owner_region  \\\n",
       "0     0015f00000Amef3AAB          Glenn Carpenter    2021-10-27         AMER   \n",
       "1     0015f00000Amef5AAB              Amy Coleman    2021-10-27         AMER   \n",
       "2     0015f00000Amef6AAB            David Sanders    2021-10-27         APAC   \n",
       "3     0015f00000AmfLYAAZ             Teresa Smith    2021-10-27         AMER   \n",
       "4     0015f00000AmfLbAAJ  Dr. Elizabeth Miller MD    2021-10-27         APAC   \n",
       "...                  ...                      ...           ...          ...   \n",
       "1995  001AJ000002hca0YAA          William Charles    2022-08-16         APAC   \n",
       "1996  001AJ000002heARYAY           Richard Newton    2022-08-16         EMEA   \n",
       "1997  001AJ000002hgIFYAY          Wesley Richards    2022-08-16         EMEA   \n",
       "1998  001AJ000002i2uiYAA             Kelly Thomas    2022-08-17         EMEA   \n",
       "1999  001AJ000002i70zYAA               Ryan Walls    2022-08-17         EMEA   \n",
       "\n",
       "      total_employees     extracting_date  \n",
       "0               10000 2024-07-22 17:01:33  \n",
       "1               10000 2024-07-22 17:01:33  \n",
       "2               10000 2024-07-22 17:01:33  \n",
       "3              298965 2024-07-22 17:01:33  \n",
       "4              301200 2024-07-22 17:01:33  \n",
       "...               ...                 ...  \n",
       "1995            10000 2024-07-22 17:01:33  \n",
       "1996               50 2024-07-22 17:01:33  \n",
       "1997            10000 2024-07-22 17:01:33  \n",
       "1998              500 2024-07-22 17:01:33  \n",
       "1999               10 2024-07-22 17:01:33  \n",
       "\n",
       "[2000 rows x 6 columns]"
      ]
     },
     "execution_count": 29,
     "metadata": {},
     "output_type": "execute_result"
    }
   ],
   "source": [
    "account_df # Ready for loading"
   ]
  }
 ],
 "metadata": {
  "kernelspec": {
   "display_name": "Python 3 (ipykernel)",
   "language": "python",
   "name": "python3"
  },
  "language_info": {
   "codemirror_mode": {
    "name": "ipython",
    "version": 3
   },
   "file_extension": ".py",
   "mimetype": "text/x-python",
   "name": "python",
   "nbconvert_exporter": "python",
   "pygments_lexer": "ipython3",
   "version": "3.10.12"
  }
 },
 "nbformat": 4,
 "nbformat_minor": 5
}
